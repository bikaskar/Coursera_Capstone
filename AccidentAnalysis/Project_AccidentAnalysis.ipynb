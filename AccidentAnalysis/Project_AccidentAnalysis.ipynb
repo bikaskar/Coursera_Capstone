{
 "cells": [
  {
   "cell_type": "markdown",
   "metadata": {},
   "source": [
    "# Description of the problem "
   ]
  },
  {
   "cell_type": "markdown",
   "metadata": {},
   "source": [
    "In this capstone we are going to solve the problem of finding the severity of the accident based on the weather condition or lighting some other conditions which can lead to accident. In this capstone we will also try to predict the probability of the accident which can be avoided people travelling on the road.\n",
    "Background of this project is to find the causes of the accident and if we can figure out way to predict an accident and thereby saving precious lives.\n"
   ]
  },
  {
   "cell_type": "markdown",
   "metadata": {},
   "source": [
    "# Description of the data "
   ]
  },
  {
   "cell_type": "markdown",
   "metadata": {},
   "source": [
    "In this captain we are going to use the data which is available in this site which contains the various attributes of each accident. there are 37 attributes for each accident. In this the most important one is the security code which is what we have to predict Based on other attributes . Some of the attributes which we Can use our location of the accident, lighting conditions, road conditions, Weather conditions, speed of the vehicle etc \n",
    "We can create a model Which will predict of accident and also the probability and train the model using training data and then further test it with test data which will be a portion of the current data which we have.  \n"
   ]
  },
  {
   "cell_type": "code",
   "execution_count": null,
   "metadata": {},
   "outputs": [],
   "source": []
  }
 ],
 "metadata": {
  "kernelspec": {
   "display_name": "Python",
   "language": "python",
   "name": "conda-env-python-py"
  },
  "language_info": {
   "codemirror_mode": {
    "name": "ipython",
    "version": 3
   },
   "file_extension": ".py",
   "mimetype": "text/x-python",
   "name": "python",
   "nbconvert_exporter": "python",
   "pygments_lexer": "ipython3",
   "version": "3.6.11"
  }
 },
 "nbformat": 4,
 "nbformat_minor": 4
}
